{
 "cells": [
  {
   "cell_type": "code",
   "execution_count": 23,
   "metadata": {},
   "outputs": [],
   "source": [
    "import pandas as pd\n",
    "import numpy as np\n",
    "from sklearn.linear_model import Lasso\n",
    "from sklearn.linear_model import Ridge\n",
    "from sklearn.model_selection import train_test_split\n",
    "from sklearn.model_selection import KFold\n",
    "from sklearn.metrics import mean_squared_error\n",
    "import matplotlib.pyplot as plt  \n"
   ]
  },
  {
   "cell_type": "code",
   "execution_count": 11,
   "metadata": {},
   "outputs": [
    {
     "data": {
      "text/html": [
       "<div>\n",
       "<style scoped>\n",
       "    .dataframe tbody tr th:only-of-type {\n",
       "        vertical-align: middle;\n",
       "    }\n",
       "\n",
       "    .dataframe tbody tr th {\n",
       "        vertical-align: top;\n",
       "    }\n",
       "\n",
       "    .dataframe thead th {\n",
       "        text-align: right;\n",
       "    }\n",
       "</style>\n",
       "<table border=\"1\" class=\"dataframe\">\n",
       "  <thead>\n",
       "    <tr style=\"text-align: right;\">\n",
       "      <th></th>\n",
       "      <th>Unnamed: 0</th>\n",
       "      <th>AtBat</th>\n",
       "      <th>Hits</th>\n",
       "      <th>HmRun</th>\n",
       "      <th>Runs</th>\n",
       "      <th>RBI</th>\n",
       "      <th>Walks</th>\n",
       "      <th>Years</th>\n",
       "      <th>CAtBat</th>\n",
       "      <th>CHits</th>\n",
       "      <th>...</th>\n",
       "      <th>CRuns</th>\n",
       "      <th>CRBI</th>\n",
       "      <th>CWalks</th>\n",
       "      <th>League</th>\n",
       "      <th>Division</th>\n",
       "      <th>PutOuts</th>\n",
       "      <th>Assists</th>\n",
       "      <th>Errors</th>\n",
       "      <th>Salary</th>\n",
       "      <th>NewLeague</th>\n",
       "    </tr>\n",
       "  </thead>\n",
       "  <tbody>\n",
       "    <tr>\n",
       "      <td>1</td>\n",
       "      <td>-Alan Ashby</td>\n",
       "      <td>315</td>\n",
       "      <td>81</td>\n",
       "      <td>7</td>\n",
       "      <td>24</td>\n",
       "      <td>38</td>\n",
       "      <td>39</td>\n",
       "      <td>14</td>\n",
       "      <td>3449</td>\n",
       "      <td>835</td>\n",
       "      <td>...</td>\n",
       "      <td>321</td>\n",
       "      <td>414</td>\n",
       "      <td>375</td>\n",
       "      <td>N</td>\n",
       "      <td>W</td>\n",
       "      <td>632</td>\n",
       "      <td>43</td>\n",
       "      <td>10</td>\n",
       "      <td>475.0</td>\n",
       "      <td>N</td>\n",
       "    </tr>\n",
       "    <tr>\n",
       "      <td>2</td>\n",
       "      <td>-Alvin Davis</td>\n",
       "      <td>479</td>\n",
       "      <td>130</td>\n",
       "      <td>18</td>\n",
       "      <td>66</td>\n",
       "      <td>72</td>\n",
       "      <td>76</td>\n",
       "      <td>3</td>\n",
       "      <td>1624</td>\n",
       "      <td>457</td>\n",
       "      <td>...</td>\n",
       "      <td>224</td>\n",
       "      <td>266</td>\n",
       "      <td>263</td>\n",
       "      <td>A</td>\n",
       "      <td>W</td>\n",
       "      <td>880</td>\n",
       "      <td>82</td>\n",
       "      <td>14</td>\n",
       "      <td>480.0</td>\n",
       "      <td>A</td>\n",
       "    </tr>\n",
       "    <tr>\n",
       "      <td>3</td>\n",
       "      <td>-Andre Dawson</td>\n",
       "      <td>496</td>\n",
       "      <td>141</td>\n",
       "      <td>20</td>\n",
       "      <td>65</td>\n",
       "      <td>78</td>\n",
       "      <td>37</td>\n",
       "      <td>11</td>\n",
       "      <td>5628</td>\n",
       "      <td>1575</td>\n",
       "      <td>...</td>\n",
       "      <td>828</td>\n",
       "      <td>838</td>\n",
       "      <td>354</td>\n",
       "      <td>N</td>\n",
       "      <td>E</td>\n",
       "      <td>200</td>\n",
       "      <td>11</td>\n",
       "      <td>3</td>\n",
       "      <td>500.0</td>\n",
       "      <td>N</td>\n",
       "    </tr>\n",
       "    <tr>\n",
       "      <td>4</td>\n",
       "      <td>-Andres Galarraga</td>\n",
       "      <td>321</td>\n",
       "      <td>87</td>\n",
       "      <td>10</td>\n",
       "      <td>39</td>\n",
       "      <td>42</td>\n",
       "      <td>30</td>\n",
       "      <td>2</td>\n",
       "      <td>396</td>\n",
       "      <td>101</td>\n",
       "      <td>...</td>\n",
       "      <td>48</td>\n",
       "      <td>46</td>\n",
       "      <td>33</td>\n",
       "      <td>N</td>\n",
       "      <td>E</td>\n",
       "      <td>805</td>\n",
       "      <td>40</td>\n",
       "      <td>4</td>\n",
       "      <td>91.5</td>\n",
       "      <td>N</td>\n",
       "    </tr>\n",
       "    <tr>\n",
       "      <td>5</td>\n",
       "      <td>-Alfredo Griffin</td>\n",
       "      <td>594</td>\n",
       "      <td>169</td>\n",
       "      <td>4</td>\n",
       "      <td>74</td>\n",
       "      <td>51</td>\n",
       "      <td>35</td>\n",
       "      <td>11</td>\n",
       "      <td>4408</td>\n",
       "      <td>1133</td>\n",
       "      <td>...</td>\n",
       "      <td>501</td>\n",
       "      <td>336</td>\n",
       "      <td>194</td>\n",
       "      <td>A</td>\n",
       "      <td>W</td>\n",
       "      <td>282</td>\n",
       "      <td>421</td>\n",
       "      <td>25</td>\n",
       "      <td>750.0</td>\n",
       "      <td>A</td>\n",
       "    </tr>\n",
       "    <tr>\n",
       "      <td>...</td>\n",
       "      <td>...</td>\n",
       "      <td>...</td>\n",
       "      <td>...</td>\n",
       "      <td>...</td>\n",
       "      <td>...</td>\n",
       "      <td>...</td>\n",
       "      <td>...</td>\n",
       "      <td>...</td>\n",
       "      <td>...</td>\n",
       "      <td>...</td>\n",
       "      <td>...</td>\n",
       "      <td>...</td>\n",
       "      <td>...</td>\n",
       "      <td>...</td>\n",
       "      <td>...</td>\n",
       "      <td>...</td>\n",
       "      <td>...</td>\n",
       "      <td>...</td>\n",
       "      <td>...</td>\n",
       "      <td>...</td>\n",
       "      <td>...</td>\n",
       "    </tr>\n",
       "    <tr>\n",
       "      <td>317</td>\n",
       "      <td>-Willie McGee</td>\n",
       "      <td>497</td>\n",
       "      <td>127</td>\n",
       "      <td>7</td>\n",
       "      <td>65</td>\n",
       "      <td>48</td>\n",
       "      <td>37</td>\n",
       "      <td>5</td>\n",
       "      <td>2703</td>\n",
       "      <td>806</td>\n",
       "      <td>...</td>\n",
       "      <td>379</td>\n",
       "      <td>311</td>\n",
       "      <td>138</td>\n",
       "      <td>N</td>\n",
       "      <td>E</td>\n",
       "      <td>325</td>\n",
       "      <td>9</td>\n",
       "      <td>3</td>\n",
       "      <td>700.0</td>\n",
       "      <td>N</td>\n",
       "    </tr>\n",
       "    <tr>\n",
       "      <td>318</td>\n",
       "      <td>-Willie Randolph</td>\n",
       "      <td>492</td>\n",
       "      <td>136</td>\n",
       "      <td>5</td>\n",
       "      <td>76</td>\n",
       "      <td>50</td>\n",
       "      <td>94</td>\n",
       "      <td>12</td>\n",
       "      <td>5511</td>\n",
       "      <td>1511</td>\n",
       "      <td>...</td>\n",
       "      <td>897</td>\n",
       "      <td>451</td>\n",
       "      <td>875</td>\n",
       "      <td>A</td>\n",
       "      <td>E</td>\n",
       "      <td>313</td>\n",
       "      <td>381</td>\n",
       "      <td>20</td>\n",
       "      <td>875.0</td>\n",
       "      <td>A</td>\n",
       "    </tr>\n",
       "    <tr>\n",
       "      <td>319</td>\n",
       "      <td>-Wayne Tolleson</td>\n",
       "      <td>475</td>\n",
       "      <td>126</td>\n",
       "      <td>3</td>\n",
       "      <td>61</td>\n",
       "      <td>43</td>\n",
       "      <td>52</td>\n",
       "      <td>6</td>\n",
       "      <td>1700</td>\n",
       "      <td>433</td>\n",
       "      <td>...</td>\n",
       "      <td>217</td>\n",
       "      <td>93</td>\n",
       "      <td>146</td>\n",
       "      <td>A</td>\n",
       "      <td>W</td>\n",
       "      <td>37</td>\n",
       "      <td>113</td>\n",
       "      <td>7</td>\n",
       "      <td>385.0</td>\n",
       "      <td>A</td>\n",
       "    </tr>\n",
       "    <tr>\n",
       "      <td>320</td>\n",
       "      <td>-Willie Upshaw</td>\n",
       "      <td>573</td>\n",
       "      <td>144</td>\n",
       "      <td>9</td>\n",
       "      <td>85</td>\n",
       "      <td>60</td>\n",
       "      <td>78</td>\n",
       "      <td>8</td>\n",
       "      <td>3198</td>\n",
       "      <td>857</td>\n",
       "      <td>...</td>\n",
       "      <td>470</td>\n",
       "      <td>420</td>\n",
       "      <td>332</td>\n",
       "      <td>A</td>\n",
       "      <td>E</td>\n",
       "      <td>1314</td>\n",
       "      <td>131</td>\n",
       "      <td>12</td>\n",
       "      <td>960.0</td>\n",
       "      <td>A</td>\n",
       "    </tr>\n",
       "    <tr>\n",
       "      <td>321</td>\n",
       "      <td>-Willie Wilson</td>\n",
       "      <td>631</td>\n",
       "      <td>170</td>\n",
       "      <td>9</td>\n",
       "      <td>77</td>\n",
       "      <td>44</td>\n",
       "      <td>31</td>\n",
       "      <td>11</td>\n",
       "      <td>4908</td>\n",
       "      <td>1457</td>\n",
       "      <td>...</td>\n",
       "      <td>775</td>\n",
       "      <td>357</td>\n",
       "      <td>249</td>\n",
       "      <td>A</td>\n",
       "      <td>W</td>\n",
       "      <td>408</td>\n",
       "      <td>4</td>\n",
       "      <td>3</td>\n",
       "      <td>1000.0</td>\n",
       "      <td>A</td>\n",
       "    </tr>\n",
       "  </tbody>\n",
       "</table>\n",
       "<p>263 rows × 21 columns</p>\n",
       "</div>"
      ],
      "text/plain": [
       "            Unnamed: 0  AtBat  Hits  HmRun  Runs  RBI  Walks  Years  CAtBat  \\\n",
       "1          -Alan Ashby    315    81      7    24   38     39     14    3449   \n",
       "2         -Alvin Davis    479   130     18    66   72     76      3    1624   \n",
       "3        -Andre Dawson    496   141     20    65   78     37     11    5628   \n",
       "4    -Andres Galarraga    321    87     10    39   42     30      2     396   \n",
       "5     -Alfredo Griffin    594   169      4    74   51     35     11    4408   \n",
       "..                 ...    ...   ...    ...   ...  ...    ...    ...     ...   \n",
       "317      -Willie McGee    497   127      7    65   48     37      5    2703   \n",
       "318   -Willie Randolph    492   136      5    76   50     94     12    5511   \n",
       "319    -Wayne Tolleson    475   126      3    61   43     52      6    1700   \n",
       "320     -Willie Upshaw    573   144      9    85   60     78      8    3198   \n",
       "321     -Willie Wilson    631   170      9    77   44     31     11    4908   \n",
       "\n",
       "     CHits  ...  CRuns  CRBI  CWalks  League Division PutOuts  Assists  \\\n",
       "1      835  ...    321   414     375       N        W     632       43   \n",
       "2      457  ...    224   266     263       A        W     880       82   \n",
       "3     1575  ...    828   838     354       N        E     200       11   \n",
       "4      101  ...     48    46      33       N        E     805       40   \n",
       "5     1133  ...    501   336     194       A        W     282      421   \n",
       "..     ...  ...    ...   ...     ...     ...      ...     ...      ...   \n",
       "317    806  ...    379   311     138       N        E     325        9   \n",
       "318   1511  ...    897   451     875       A        E     313      381   \n",
       "319    433  ...    217    93     146       A        W      37      113   \n",
       "320    857  ...    470   420     332       A        E    1314      131   \n",
       "321   1457  ...    775   357     249       A        W     408        4   \n",
       "\n",
       "     Errors  Salary  NewLeague  \n",
       "1        10   475.0          N  \n",
       "2        14   480.0          A  \n",
       "3         3   500.0          N  \n",
       "4         4    91.5          N  \n",
       "5        25   750.0          A  \n",
       "..      ...     ...        ...  \n",
       "317       3   700.0          N  \n",
       "318      20   875.0          A  \n",
       "319       7   385.0          A  \n",
       "320      12   960.0          A  \n",
       "321       3  1000.0          A  \n",
       "\n",
       "[263 rows x 21 columns]"
      ]
     },
     "execution_count": 11,
     "metadata": {},
     "output_type": "execute_result"
    }
   ],
   "source": [
    "df = pd.read_csv('Hitters.csv')\n",
    "df = df.dropna()\n",
    "df"
   ]
  },
  {
   "cell_type": "code",
   "execution_count": 21,
   "metadata": {},
   "outputs": [],
   "source": [
    "X = df[['AtBat', 'Hits', 'HmRun', 'Runs', 'RBI', 'Walks', 'Years', 'CAtBat', 'CHits', 'CHmRun', 'CRuns', 'CRBI', 'CWalks', 'PutOuts', 'Assists', 'Errors']].values\n",
    "y = df['Salary'].values"
   ]
  },
  {
   "cell_type": "markdown",
   "metadata": {},
   "source": [
    "#### 1.1 \n",
    "Use LASSO regression to predict Salary from the other numeric predictors. Create a visualization of the coefficient trajectories. Comment on which are the final three predictors that remain in the model. Use cross-validation to find the optimal value of the regularization penality. How many predictors are left in that model?"
   ]
  },
  {
   "cell_type": "code",
   "execution_count": 41,
   "metadata": {},
   "outputs": [
    {
     "name": "stderr",
     "output_type": "stream",
     "text": [
      "/Users/audrey/opt/anaconda3/lib/python3.7/site-packages/sklearn/linear_model/coordinate_descent.py:475: ConvergenceWarning: Objective did not converge. You might want to increase the number of iterations. Duality gap: 441557.8608218692, tolerance: 3606.2122661976773\n",
      "  positive)\n"
     ]
    },
    {
     "name": "stdout",
     "output_type": "stream",
     "text": [
      "100\n",
      "[array([-1.90329475,  6.83003178,  4.48862716, -1.46859964, -0.41262891,\n",
      "        5.53565628, -4.39676929, -0.18067333,  0.01732023, -1.36101932,\n",
      "        1.22717611,  1.40636529, -0.49497356,  0.31193662,  0.43056809,\n",
      "       -5.34764378]), array([-2.1581212 ,  5.94395048,  0.27275856,  0.64498353,  0.21018774,\n",
      "        4.91560443, -1.66300411, -0.18406081,  0.27923875,  0.51404256,\n",
      "        1.26060088,  0.59744045, -0.64378315,  0.33471821,  0.5096275 ,\n",
      "       -1.59847138]), array([-2.50495622,  9.47697523,  6.83627475, -5.3777383 , -0.89302445,\n",
      "        8.16579545,  0.01784951, -0.20851535, -0.36539212, -1.55007883,\n",
      "        2.62592343,  1.3652661 , -1.19838962,  0.26172828,  0.39487049,\n",
      "       -0.59144456]), array([-1.617896  ,  6.34183396,  0.37960273, -2.3443106 ,  0.70468617,\n",
      "        5.65518518, -4.32122939, -0.06099566, -0.51232594, -1.69582321,\n",
      "        1.83177701,  1.19038031, -0.73889935,  0.25109926,  0.21058416,\n",
      "       -3.9562646 ]), array([-2.5563493 ,  9.51703683,  3.03669005, -2.66383908, -1.89643094,\n",
      "        7.36844727, -1.51085623, -0.13421246,  0.07741041,  1.66220683,\n",
      "        1.55229526,  0.25982266, -0.95855771,  0.21228799,  0.35107348,\n",
      "       -1.38813753]), array([-2.26931008,  9.67203141,  2.29168833, -4.18709819, -2.00640909,\n",
      "        8.1249757 ,  0.4459353 , -0.12994443, -0.4633975 ,  0.72128402,\n",
      "        2.05984311,  0.87143721, -0.73858546,  0.29118949,  0.35669148,\n",
      "       -3.82641651]), array([-2.55532201,  8.90441188,  0.        , -0.84526991,  0.3958462 ,\n",
      "        5.91489074, -4.36407861, -0.03425835, -0.55940098, -0.92613573,\n",
      "        1.79730412,  1.06445295, -0.82170817,  0.34129393,  0.22276819,\n",
      "       -0.        ]), array([-1.92613201,  6.58925598, -0.        , -1.1489545 , -1.71852446,\n",
      "        6.62408041, -0.        , -0.25885235,  0.52527283,  0.82616148,\n",
      "        0.80620833,  1.08115453, -0.68687984,  0.24996951,  0.48646689,\n",
      "       -0.47902394]), array([-1.32416493,  6.42307933, -0.        , -2.57175994,  0.        ,\n",
      "        6.45230196,  0.        , -0.13827445,  0.29976674, -0.22387249,\n",
      "        0.93424402,  0.68949453, -0.77561237,  0.21338302,  0.00702715,\n",
      "       -0.        ])]\n"
     ]
    }
   ],
   "source": [
    "# https://scikit-learn.org/stable/auto_examples/linear_model/plot_ridge_path.html\n",
    "\n",
    "alphas = [1e-10, 1e-4, 1e-2, 1, 5, 10, 20, 50, 100]\n",
    "accuracies = [] \n",
    "coef = []\n",
    "highest = 0\n",
    "lowest_MSE = float('inf')\n",
    "best_coef = 0\n",
    "\n",
    "# Tune parameter\n",
    "for a in alphas:  \n",
    "    kf = KFold(n_splits=5)\n",
    "    for train_index, test_index in kf.split(X):\n",
    "        X_train = X[train_index]\n",
    "        y_train = y[train_index]\n",
    "        X_test = X[test_index]\n",
    "        y_test = y[test_index]\n",
    "        lasso_reg = Lasso(alpha = a, max_iter=50000)\n",
    "        lasso_reg.fit(X_train,y_train)\n",
    "        #coef.append(lasso_reg.coef_)\n",
    "        y_pred = lasso_reg.predict(X_test)\n",
    "        MSE = mean_squared_error(y_test, y_pred)\n",
    "        if MSE < lowest_MSE:\n",
    "            best_coef = c\n",
    "    \n",
    "    train_X, test_X, train_y, test_y = train_test_split(X, y, test_size=0.2)\n",
    "    lasso_reg = Lasso(alpha = a, max_iter=50000)\n",
    "    lasso_reg.fit(train_X, train_y)\n",
    "    coef.append(lasso_reg.coef_)\n",
    "print(best_coef)\n",
    "print(coef)"
   ]
  },
  {
   "cell_type": "code",
   "execution_count": 50,
   "metadata": {},
   "outputs": [
    {
     "data": {
      "text/plain": [
       "array([-1.86724289,  6.85536067, -0.        , -0.23551195,  0.14878681,\n",
       "        5.47816313, -0.        , -0.10260497,  0.03409402, -0.        ,\n",
       "        1.2090107 ,  0.6097069 , -0.71070667,  0.38927437,  0.23827311,\n",
       "       -0.        ])"
      ]
     },
     "execution_count": 50,
     "metadata": {},
     "output_type": "execute_result"
    }
   ],
   "source": [
    "train_X, test_X, train_y, test_y = train_test_split(X, y, test_size=0.2)\n",
    "lasso_reg = Lasso(alpha = 100, max_iter=50000)\n",
    "lasso_reg.fit(train_X, train_y)\n",
    "lasso_reg.coef_"
   ]
  },
  {
   "cell_type": "code",
   "execution_count": 42,
   "metadata": {},
   "outputs": [
    {
     "data": {
      "text/plain": [
       "(398.1071705534973, 2.5118864315095823e-11)"
      ]
     },
     "execution_count": 42,
     "metadata": {},
     "output_type": "execute_result"
    },
    {
     "data": {
      "image/png": "[encoded data removed]",
      "text/plain": [
       "<Figure size 432x288 with 1 Axes>"
      ]
     },
     "metadata": {
      "needs_background": "light"
     },
     "output_type": "display_data"
    }
   ],
   "source": [
    "ax = plt.gca()\n",
    "\n",
    "ax.plot(alphas, coef)\n",
    "ax.set_xscale('log')\n",
    "ax.set_xlim(ax.get_xlim()[::-1])"
   ]
  },
  {
   "cell_type": "markdown",
   "metadata": {},
   "source": [
    "The final predictors that remain in the model are AtBat, Hits, and Walks."
   ]
  },
  {
   "cell_type": "markdown",
   "metadata": {},
   "source": [
    "#### 1.2\n",
    "Repeat with Ridge Regression. Visualize coeffecient trajectories. Use cross- validation to find the optimal vaule of the regularization penalty.\n"
   ]
  },
  {
   "cell_type": "code",
   "execution_count": 46,
   "metadata": {},
   "outputs": [
    {
     "name": "stdout",
     "output_type": "stream",
     "text": [
      "100\n"
     ]
    }
   ],
   "source": [
    "alphas = [1e-10, 1e-4, 1e-2, 1, 5, 10, 20, 50, 100]\n",
    "accuracies = [] \n",
    "highest = 0\n",
    "lowest_MSE = float('inf')\n",
    "best_coef = 0\n",
    "coef = []\n",
    "\n",
    "# Tune parameter\n",
    "for a in alphas:  \n",
    "    kf = KFold(n_splits=5)\n",
    "    for train_index, test_index in kf.split(X):\n",
    "        X_train = X[train_index]\n",
    "        y_train = y[train_index]\n",
    "        X_test = X[test_index]\n",
    "        y_test = y[test_index]\n",
    "        ridge_reg = Ridge(alpha = a, max_iter=50000)\n",
    "        ridge_reg.fit(X_train,y_train)\n",
    "        y_pred = ridge_reg.predict(X_test)\n",
    "        MSE = mean_squared_error(y_test, y_pred)\n",
    "        if MSE < lowest_MSE:\n",
    "            best_coef = c\n",
    "    train_X, test_X, train_y, test_y = train_test_split(X, y, test_size=0.2)\n",
    "    ridge_reg = Ridge(alpha = a, max_iter=50000)\n",
    "    ridge_reg.fit(train_X, train_y)\n",
    "    coef.append(ridge_reg.coef_)\n",
    "print(best_coef)\n",
    "    "
   ]
  },
  {
   "cell_type": "code",
   "execution_count": 52,
   "metadata": {},
   "outputs": [
    {
     "data": {
      "text/plain": [
       "array([-2.63367451,  9.30476972, -6.87638415, -1.69169245,  1.12832968,\n",
       "        6.25488978, -9.69156418, -0.09288991,  0.11389462,  2.53021922,\n",
       "        1.01604238,  0.27195211, -0.78905604,  0.27816181,  0.30627532,\n",
       "       -1.80748116])"
      ]
     },
     "execution_count": 52,
     "metadata": {},
     "output_type": "execute_result"
    }
   ],
   "source": [
    "train_X, test_X, train_y, test_y = train_test_split(X, y, test_size=0.2)\n",
    "ridge_reg = Ridge(alpha = 100, max_iter=50000)\n",
    "ridge_reg.fit(train_X, train_y)\n",
    "ridge_reg.coef_"
   ]
  },
  {
   "cell_type": "code",
   "execution_count": 47,
   "metadata": {},
   "outputs": [
    {
     "data": {
      "text/plain": [
       "(398.1071705534973, 2.5118864315095823e-11)"
      ]
     },
     "execution_count": 47,
     "metadata": {},
     "output_type": "execute_result"
    },
    {
     "data": {
      "image/png": "[encoded data removed]",
      "text/plain": [
       "<Figure size 432x288 with 1 Axes>"
      ]
     },
     "metadata": {
      "needs_background": "light"
     },
     "output_type": "display_data"
    }
   ],
   "source": [
    "ax = plt.gca()\n",
    "\n",
    "ax.plot(alphas, coef)\n",
    "ax.set_xscale('log')\n",
    "ax.set_xlim(ax.get_xlim()[::-1])"
   ]
  },
  {
   "cell_type": "raw",
   "metadata": {},
   "source": [
    "The final predictors that remain in the model are Hits, HmRun, and Years."
   ]
  },
  {
   "cell_type": "markdown",
   "metadata": {},
   "source": [
    "#### 2\n",
    "Explain in your own words the bias-variance tradeoff. What role does regularization play in this tradeoff? Make reference to your findings in number (1) to describe models of high/low bias and variance."
   ]
  },
  {
   "cell_type": "markdown",
   "metadata": {},
   "source": [
    "Trade-off is tension between the error introduced by the bias and the variance. When the model is underfitting, there will be high bias, which means the error is big and the model doesn’t have the ability to capture enough information of the dataset. So in the meantime, the variance will be low. Low variance means that given different data points, the results do not have a high variation. On the other hand, when the model is overfitting, bias is low, but even a small change in data will result in a big change of target function which leads to a high variance.\n",
    "Regularization is a penalty term of the loss function that constrains or shrinks the coefficient estimates towards zero. In other words, this technique discourages from learning a more complex or flexible model, so as to avoid the risk of overfitting. Refer to probelem one, given a set of regularization coefficient, the models perform the best when the coefficient is large, meaning the models are penalized for being too complex, and they have high bias and low variance. \n"
   ]
  }
 ],
 "metadata": {
  "kernelspec": {
   "display_name": "Python 3",
   "language": "python",
   "name": "python3"
  },
  "language_info": {
   "codemirror_mode": {
    "name": "ipython",
    "version": 3
   },
   "file_extension": ".py",
   "mimetype": "text/x-python",
   "name": "python",
   "nbconvert_exporter": "python",
   "pygments_lexer": "ipython3",
   "version": "3.7.4"
  }
 },
 "nbformat": 4,
 "nbformat_minor": 2
}
